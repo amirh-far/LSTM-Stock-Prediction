{
 "cells": [
  {
   "cell_type": "code",
   "execution_count": 22,
   "id": "c1cb3b8d",
   "metadata": {},
   "outputs": [],
   "source": [
    "# This Stock Prediction is done by LSTM model with two approaches:\n",
    "# 1. Trained all stocks data into the model.\n",
    "# \n",
    "# 2. Each txt file represents a stock name, so I trained each stock with\n",
    "#    its data to the model to predict its price.\n",
    "\n",
    "# Open Interest is the total number of contracts that tasvie, monghazi ya baste nashodan :)\n",
    "\n",
    "# ETF: funds that trade on exchanges, generally tracking a specific index.\n",
    "# When you invest in an ETF, you get a bundle of assets you can buy and sell during market hours.\n",
    "\n",
    "# We only work on stocks data cause that's the only data we need"
   ]
  },
  {
   "cell_type": "code",
   "execution_count": 39,
   "id": "19796b50",
   "metadata": {},
   "outputs": [],
   "source": [
    "import numpy as np\n",
    "import tensorflow as tf\n",
    "import pandas as pd\n",
    "import matplotlib.pyplot as plt"
   ]
  },
  {
   "cell_type": "code",
   "execution_count": 40,
   "id": "f7beddb5",
   "metadata": {
    "scrolled": false
   },
   "outputs": [
    {
     "name": "stdout",
     "output_type": "stream",
     "text": [
      "           Date       Open       High        Low      Close   Volume\n",
      "0    2005-02-25  12.868000  12.982000  12.834000  12.834000  15928.0\n",
      "1    2005-02-28  13.536000  13.536000  13.273000  13.281000  16382.0\n",
      "2    2005-03-01  13.185000  13.299000  13.185000  13.299000   1250.0\n",
      "3    2005-03-02  13.361000  13.395000  13.273000  13.291000   8760.0\n",
      "4    2005-03-03  13.361000  13.404000  12.966000  13.218000   9897.0\n",
      "...         ...        ...        ...        ...        ...      ...\n",
      "3195 2017-11-06  18.049999  18.139999  17.950001  18.030001  11470.0\n",
      "3196 2017-11-07  18.030001  18.330000  18.030001  18.170000  15729.0\n",
      "3197 2017-11-08  18.250000  18.250000  18.160000  18.246099   5585.0\n",
      "3198 2017-11-09  18.100000  18.100000  17.830000  18.040001  10929.0\n",
      "3199 2017-11-10  18.030001  18.030001  17.890100  17.959999   7161.0\n",
      "\n",
      "[14887665 rows x 6 columns]\n"
     ]
    }
   ],
   "source": [
    "import sys\n",
    "import os\n",
    "\n",
    "path = sys.path[0]    \n",
    "\n",
    "stocks_dataset_path = path + \"/stocks-data/Stocks/\" # Adjust this path to your own dataset path\n",
    "txt_files_names = os.listdir(stocks_dataset_path)\n",
    "txt_files_exact_path = [stocks_dataset_path + file_name for file_name in txt_files_names]\n",
    "\n",
    "txt_file_dtypes = {\n",
    "    \"Open\": \"float32\",\n",
    "    \"High\": \"float32\",\n",
    "    \"Low\": \"float32\",\n",
    "    \"Close\": \"float32\",\n",
    "    \"Volume\": \"float32\",\n",
    "}\n",
    "\n",
    "use_cols = [\n",
    "    \"Date\",\n",
    "    \"Open\",\n",
    "    \"High\",\n",
    "    \"Low\",\n",
    "    \"Close\",\n",
    "    \"Volume\",\n",
    "]\n",
    "\n",
    "data_list = []\n",
    "file_count = 1\n",
    "for file in txt_files_exact_path:\n",
    "    if os.path.getsize(file) != 0:\n",
    "        data_list.append(\n",
    "            pd.read_csv(\n",
    "                file,\n",
    "                delimiter=\",\",\n",
    "                parse_dates=[\"Date\"],\n",
    "                dtype=txt_file_dtypes,\n",
    "                usecols=use_cols\n",
    "            )\n",
    "        )\n",
    "        print(f\"{file_count} / 7195 files read\", end=\"\\r\") # Some files are empty\n",
    "        file_count += 1\n",
    "        \n",
    "data = pd.concat(data_list)\n",
    "\n",
    "print(data)"
   ]
  },
  {
   "cell_type": "code",
   "execution_count": 41,
   "id": "3dd0fef1",
   "metadata": {},
   "outputs": [
    {
     "name": "stdout",
     "output_type": "stream",
     "text": [
      "0\n"
     ]
    }
   ],
   "source": [
    "# Checking if any inf is found in data for max float16\n",
    "inf_count = np.isinf(data).sum().sum()\n",
    "print(inf_count)\n",
    "# It seems we have alot of inf so we switch to float32."
   ]
  },
  {
   "cell_type": "code",
   "execution_count": 42,
   "id": "ec42ef2d",
   "metadata": {
    "scrolled": false
   },
   "outputs": [
    {
     "name": "stdout",
     "output_type": "stream",
     "text": [
      "(14887665, 6)\n"
     ]
    }
   ],
   "source": [
    "print(data.shape)"
   ]
  },
  {
   "cell_type": "code",
   "execution_count": 43,
   "id": "03ecee46",
   "metadata": {},
   "outputs": [
    {
     "name": "stdout",
     "output_type": "stream",
     "text": [
      "0\n",
      "(14863012, 6)\n"
     ]
    }
   ],
   "source": [
    "# Data Cleaning\n",
    "# Checking if any data is nan\n",
    "nan_count = np.isnan(data).sum().sum()\n",
    "print(nan_count) # We don't have any nan\n",
    "\n",
    "# We dont need to remove duplicates\n",
    "\n",
    "# Checking for negative values\n",
    "data = data[\n",
    "   (data[\"Open\"] > 0) & (data[\"High\"] > 0) & (data[\"Low\"] > 0) & (data[\"Close\"] > 0) & (data[\"Volume\"] > 0) \n",
    "]\n",
    "print(data.shape)"
   ]
  },
  {
   "cell_type": "code",
   "execution_count": null,
   "id": "f508960f",
   "metadata": {},
   "outputs": [],
   "source": [
    "# Identify and handle outliers using z-scores\n",
    "# from scipy.stats import zscore\n",
    "\n",
    "# z_scores = zscore(original_df['Close'])\n",
    "# outliers = (z_scores > 3) | (z_scores < -3)\n",
    "\n",
    "# cleaned_df = original_df[~outliers]"
   ]
  },
  {
   "cell_type": "code",
   "execution_count": 44,
   "id": "7747a7bc",
   "metadata": {},
   "outputs": [
    {
     "data": {
      "text/html": [
       "<div>\n",
       "<style scoped>\n",
       "    .dataframe tbody tr th:only-of-type {\n",
       "        vertical-align: middle;\n",
       "    }\n",
       "\n",
       "    .dataframe tbody tr th {\n",
       "        vertical-align: top;\n",
       "    }\n",
       "\n",
       "    .dataframe thead th {\n",
       "        text-align: right;\n",
       "    }\n",
       "</style>\n",
       "<table border=\"1\" class=\"dataframe\">\n",
       "  <thead>\n",
       "    <tr style=\"text-align: right;\">\n",
       "      <th></th>\n",
       "      <th>Date</th>\n",
       "      <th>Open</th>\n",
       "      <th>High</th>\n",
       "      <th>Low</th>\n",
       "      <th>Close</th>\n",
       "      <th>Volume</th>\n",
       "    </tr>\n",
       "  </thead>\n",
       "  <tbody>\n",
       "    <tr>\n",
       "      <th>0</th>\n",
       "      <td>2005-02-25</td>\n",
       "      <td>12.868000</td>\n",
       "      <td>12.982000</td>\n",
       "      <td>12.834000</td>\n",
       "      <td>12.834000</td>\n",
       "      <td>15928.0</td>\n",
       "    </tr>\n",
       "    <tr>\n",
       "      <th>1</th>\n",
       "      <td>2005-02-28</td>\n",
       "      <td>13.536000</td>\n",
       "      <td>13.536000</td>\n",
       "      <td>13.273000</td>\n",
       "      <td>13.281000</td>\n",
       "      <td>16382.0</td>\n",
       "    </tr>\n",
       "    <tr>\n",
       "      <th>2</th>\n",
       "      <td>2005-03-01</td>\n",
       "      <td>13.185000</td>\n",
       "      <td>13.299000</td>\n",
       "      <td>13.185000</td>\n",
       "      <td>13.299000</td>\n",
       "      <td>1250.0</td>\n",
       "    </tr>\n",
       "    <tr>\n",
       "      <th>3</th>\n",
       "      <td>2005-03-02</td>\n",
       "      <td>13.361000</td>\n",
       "      <td>13.395000</td>\n",
       "      <td>13.273000</td>\n",
       "      <td>13.291000</td>\n",
       "      <td>8760.0</td>\n",
       "    </tr>\n",
       "    <tr>\n",
       "      <th>4</th>\n",
       "      <td>2005-03-03</td>\n",
       "      <td>13.361000</td>\n",
       "      <td>13.404000</td>\n",
       "      <td>12.966000</td>\n",
       "      <td>13.218000</td>\n",
       "      <td>9897.0</td>\n",
       "    </tr>\n",
       "    <tr>\n",
       "      <th>...</th>\n",
       "      <td>...</td>\n",
       "      <td>...</td>\n",
       "      <td>...</td>\n",
       "      <td>...</td>\n",
       "      <td>...</td>\n",
       "      <td>...</td>\n",
       "    </tr>\n",
       "    <tr>\n",
       "      <th>3195</th>\n",
       "      <td>2017-11-06</td>\n",
       "      <td>18.049999</td>\n",
       "      <td>18.139999</td>\n",
       "      <td>17.950001</td>\n",
       "      <td>18.030001</td>\n",
       "      <td>11470.0</td>\n",
       "    </tr>\n",
       "    <tr>\n",
       "      <th>3196</th>\n",
       "      <td>2017-11-07</td>\n",
       "      <td>18.030001</td>\n",
       "      <td>18.330000</td>\n",
       "      <td>18.030001</td>\n",
       "      <td>18.170000</td>\n",
       "      <td>15729.0</td>\n",
       "    </tr>\n",
       "    <tr>\n",
       "      <th>3197</th>\n",
       "      <td>2017-11-08</td>\n",
       "      <td>18.250000</td>\n",
       "      <td>18.250000</td>\n",
       "      <td>18.160000</td>\n",
       "      <td>18.246099</td>\n",
       "      <td>5585.0</td>\n",
       "    </tr>\n",
       "    <tr>\n",
       "      <th>3198</th>\n",
       "      <td>2017-11-09</td>\n",
       "      <td>18.100000</td>\n",
       "      <td>18.100000</td>\n",
       "      <td>17.830000</td>\n",
       "      <td>18.040001</td>\n",
       "      <td>10929.0</td>\n",
       "    </tr>\n",
       "    <tr>\n",
       "      <th>3199</th>\n",
       "      <td>2017-11-10</td>\n",
       "      <td>18.030001</td>\n",
       "      <td>18.030001</td>\n",
       "      <td>17.890100</td>\n",
       "      <td>17.959999</td>\n",
       "      <td>7161.0</td>\n",
       "    </tr>\n",
       "  </tbody>\n",
       "</table>\n",
       "<p>14863012 rows × 6 columns</p>\n",
       "</div>"
      ],
      "text/plain": [
       "           Date       Open       High        Low      Close   Volume\n",
       "0    2005-02-25  12.868000  12.982000  12.834000  12.834000  15928.0\n",
       "1    2005-02-28  13.536000  13.536000  13.273000  13.281000  16382.0\n",
       "2    2005-03-01  13.185000  13.299000  13.185000  13.299000   1250.0\n",
       "3    2005-03-02  13.361000  13.395000  13.273000  13.291000   8760.0\n",
       "4    2005-03-03  13.361000  13.404000  12.966000  13.218000   9897.0\n",
       "...         ...        ...        ...        ...        ...      ...\n",
       "3195 2017-11-06  18.049999  18.139999  17.950001  18.030001  11470.0\n",
       "3196 2017-11-07  18.030001  18.330000  18.030001  18.170000  15729.0\n",
       "3197 2017-11-08  18.250000  18.250000  18.160000  18.246099   5585.0\n",
       "3198 2017-11-09  18.100000  18.100000  17.830000  18.040001  10929.0\n",
       "3199 2017-11-10  18.030001  18.030001  17.890100  17.959999   7161.0\n",
       "\n",
       "[14863012 rows x 6 columns]"
      ]
     },
     "execution_count": 44,
     "metadata": {},
     "output_type": "execute_result"
    }
   ],
   "source": [
    "# Cleaned Data:\n",
    "data"
   ]
  },
  {
   "cell_type": "code",
   "execution_count": null,
   "id": "d375417f",
   "metadata": {},
   "outputs": [],
   "source": []
  }
 ],
 "metadata": {
  "kernelspec": {
   "display_name": "Python 3 (ipykernel)",
   "language": "python",
   "name": "python3"
  },
  "language_info": {
   "codemirror_mode": {
    "name": "ipython",
    "version": 3
   },
   "file_extension": ".py",
   "mimetype": "text/x-python",
   "name": "python",
   "nbconvert_exporter": "python",
   "pygments_lexer": "ipython3",
   "version": "3.11.5"
  }
 },
 "nbformat": 4,
 "nbformat_minor": 5
}
